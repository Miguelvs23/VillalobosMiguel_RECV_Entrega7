{
 "cells": [
  {
   "cell_type": "code",
   "execution_count": 1,
   "metadata": {},
   "outputs": [],
   "source": [
    "import numpy as np \n",
    "import matplotlib.pyplot as plt \n",
    "from sklearn.metrics import f1_score\n",
    "from sklearn.metrics import confusion_matrix\n",
    "import torch\n",
    "from torch.autograd import Variable\n",
    "from PIL import Image\n",
    "from glob import glob\n",
    "from torch.utils.data import DataLoader\n",
    "from torch.utils.data import TensorDataset\n",
    "from tqdm.notebook import tqdm\n",
    "import zipfile"
   ]
  },
  {
   "cell_type": "code",
   "execution_count": 7,
   "metadata": {},
   "outputs": [],
   "source": [
    "zip = zipfile.ZipFile('fashion-mnist.zip')\n",
    "zip.extractall()"
   ]
  },
  {
   "cell_type": "code",
   "execution_count": 2,
   "metadata": {},
   "outputs": [],
   "source": [
    "train_files = glob('./fashion-mnist/train/*/*.png')\n",
    "valid_files = glob('./fashio-mnist/valid/*/*.png')\n",
    "test_files = glob('./fashion-mnist/test/*/*.png')"
   ]
  },
  {
   "cell_type": "code",
   "execution_count": 3,
   "metadata": {},
   "outputs": [],
   "source": [
    "np.random.shuffle(train_files)\n",
    "np.random.shuffle(valid_files)\n",
    "np.random.shuffle(test_files)\n",
    "N_train = len(train_files)\n",
    "X_train = []\n",
    "Y_train = []\n",
    "\n",
    "for i, train_file in enumerate(train_files):\n",
    "    Y_train.append( int(train_file.split('\\\\')[1]) )\n",
    "    X_train.append(np.array(Image.open(train_file)))\n",
    "N_valid = len(valid_files)\n",
    "X_valid = []\n",
    "Y_valid = []\n",
    "\n",
    "for i, valid_file in enumerate(valid_files):\n",
    "    Y_valid.append( int(valid_file.split('\\\\')[1]) )\n",
    "    X_valid.append( np.array(Image.open(valid_file)) )\n",
    "N_test = len(test_files)\n",
    "X_test = []\n",
    "Y_test = []\n",
    "\n",
    "for i, test_file in enumerate(test_files):\n",
    "    Y_test.append( int(test_file.split('\\\\')[1]) )\n",
    "    X_test.append( np.array(Image.open(test_file)) )"
   ]
  },
  {
   "cell_type": "code",
   "execution_count": 4,
   "metadata": {},
   "outputs": [],
   "source": [
    "X_train = Variable(torch.from_numpy(np.array(X_train))).float()\n",
    "Y_train = Variable(torch.from_numpy(np.array(Y_train))).long()\n",
    "\n",
    "X_valid = Variable(torch.from_numpy(np.array(X_valid))).float()\n",
    "Y_valid = Variable(torch.from_numpy(np.array(Y_valid))).long()\n",
    "\n",
    "X_test = Variable(torch.from_numpy(np.array(X_test))).float()\n",
    "Y_test = Variable(torch.from_numpy(np.array(Y_test))).long()"
   ]
  },
  {
   "cell_type": "code",
   "execution_count": 5,
   "metadata": {},
   "outputs": [
    {
     "data": {
      "image/png": "[encoded data removed]",
      "text/plain": [
       "<Figure size 720x360 with 1 Axes>"
      ]
     },
     "metadata": {
      "needs_background": "light"
     },
     "output_type": "display_data"
    }
   ],
   "source": [
    "fig,ax = plt.subplots(figsize=(10,5))\n",
    "ax.hist(Y_test.numpy())\n",
    "plt.show()"
   ]
  },
  {
   "cell_type": "markdown",
   "metadata": {},
   "source": [
    "### Las clases están balanceadas\n"
   ]
  },
  {
   "cell_type": "code",
   "execution_count": 56,
   "metadata": {},
   "outputs": [
    {
     "data": {
      "text/plain": [
       "Sequential(\n",
       "  (0): Conv2d(1, 32, kernel_size=(4, 4), stride=(2, 2), padding=(3, 3))\n",
       "  (1): Sigmoid()\n",
       "  (2): MaxPool2d(kernel_size=2, stride=2, padding=0, dilation=1, ceil_mode=False)\n",
       "  (3): Dropout(p=0.15, inplace=False)\n",
       "  (4): Conv2d(32, 40, kernel_size=(3, 3), stride=(1, 1), padding=(3, 3))\n",
       "  (5): Sigmoid()\n",
       "  (6): MaxPool2d(kernel_size=2, stride=2, padding=0, dilation=1, ceil_mode=False)\n",
       "  (7): Dropout(p=0.1, inplace=False)\n",
       "  (8): Flatten()\n",
       "  (9): Linear(in_features=1440, out_features=10, bias=True)\n",
       ")"
      ]
     },
     "execution_count": 56,
     "metadata": {},
     "output_type": "execute_result"
    }
   ],
   "source": [
    "batch_size = 32\n",
    "train_ds = torch.utils.data.TensorDataset(X_train, Y_train)\n",
    "train_dl = torch.utils.data.DataLoader(train_ds, batch_size=batch_size, shuffle=True)\n",
    "model = torch.nn.Sequential(\n",
    "  torch.nn.Conv2d(1, 32, kernel_size=4, stride=2, padding=3),\n",
    "  # ( (28-5+2*2)/1 ) + 1 = 16   -> 16*16*32\n",
    "\n",
    "  torch.nn.Sigmoid(),\n",
    "\n",
    "  torch.nn.MaxPool2d(kernel_size=2),\n",
    "  # 16/2 = 8                 -> 8*8*32\n",
    "\n",
    "  torch.nn.Dropout(p=0.15),\n",
    "\n",
    "  torch.nn.Conv2d(32, 40, kernel_size=3, stride=1, padding=3),\n",
    "  # ( (8-5+2*2)/1 ) + 1 = 12   -> 12*12*40\n",
    "\n",
    "  torch.nn.Sigmoid(),\n",
    "\n",
    "  torch.nn.MaxPool2d(kernel_size=2),\n",
    "  # 12/2 = 6                 -> 6*6*40\n",
    "\n",
    "  torch.nn.Dropout(p=0.1), \n",
    "\n",
    "  torch.nn.Flatten(),\n",
    "  torch.nn.Linear(6*6*40, 10)\n",
    ")\n",
    "model"
   ]
  },
  {
   "cell_type": "code",
   "execution_count": 57,
   "metadata": {},
   "outputs": [
    {
     "name": "stdout",
     "output_type": "stream",
     "text": [
      "cpu\n"
     ]
    }
   ],
   "source": [
    "\n",
    "criterion = torch.nn.CrossEntropyLoss()\n",
    "optimizer = torch.optim.Adam(model.parameters(), lr = 0.001, weight_decay=0.1)\n",
    "device = torch.device(\"cuda:0\" if torch.cuda.is_available() else \"cpu\")\n",
    "print(device)"
   ]
  },
  {
   "cell_type": "code",
   "execution_count": 58,
   "metadata": {},
   "outputs": [],
   "source": [
    "from sklearn.metrics import f1_score, accuracy_score\n",
    "\n",
    "n_epoch = 10\n",
    "\n",
    "it = 0\n",
    "f1_list = []\n",
    "acc_list = []\n",
    "loss_list = []\n",
    "for epoch in range(n_epoch):\n",
    "    for batch_id, (X_train_batch, Y_train_batch) in enumerate(train_dl):\n",
    "        model.train()\n",
    "        Xtr = X_train_batch.unsqueeze(1)\n",
    "        Y_pred = model(Xtr)\n",
    "\n",
    "        loss = criterion(Y_pred,Y_train_batch)\n",
    "\n",
    "        Y_pred = torch.argmax(Y_pred, 1)\n",
    "        f1 = f1_score(Y_train_batch, Y_pred, average='macro')    \n",
    "\n",
    "        acc = accuracy_score(Y_train_batch,Y_pred)\n",
    "        loss_list.append(loss.item())\n",
    "        f1_list.append(f1)\n",
    "        acc_list.append(acc)\n",
    "        optimizer.zero_grad()\n",
    "        loss.backward()\n",
    "        optimizer.step()\n"
   ]
  },
  {
   "cell_type": "code",
   "execution_count": 64,
   "metadata": {},
   "outputs": [
    {
     "data": {
      "text/plain": [
       "Text(0.5, 0, 'iteration')"
      ]
     },
     "execution_count": 64,
     "metadata": {},
     "output_type": "execute_result"
    },
    {
     "data": {
      "image/png": "[encoded data removed]",
      "text/plain": [
       "<Figure size 1152x288 with 3 Axes>"
      ]
     },
     "metadata": {
      "needs_background": "light"
     },
     "output_type": "display_data"
    }
   ],
   "source": [
    "fig, ax = plt.subplots(figsize = (16,4), nrows = 1, ncols = 3)\n",
    "ax[0].plot(f1_list)\n",
    "ax[0].set_title('f1-score')\n",
    "ax[0].set_ylabel('f1-score')\n",
    "ax[0].set_xlabel('iteration')\n",
    "ax[1].plot(acc_list)\n",
    "ax[1].set_title('accuracy')\n",
    "ax[1].set_ylabel('Accuracy')\n",
    "ax[1].set_xlabel('iteration')\n",
    "ax[2].plot(loss_list)\n",
    "ax[2].set_title('Loss')\n",
    "ax[2].set_ylabel('Loss')\n",
    "ax[2].set_xlabel('iteration')\n"
   ]
  },
  {
   "cell_type": "code",
   "execution_count": 62,
   "metadata": {},
   "outputs": [
    {
     "data": {
      "image/png": "[encoded data removed]",
      "text/plain": [
       "<Figure size 1152x288 with 32 Axes>"
      ]
     },
     "metadata": {
      "needs_background": "light"
     },
     "output_type": "display_data"
    }
   ],
   "source": [
    "kernels = list(model.children())[0].weight.detach()\n",
    "\n",
    "fig = plt.figure(figsize=(16,4))\n",
    "k = 0\n",
    "for i in range(kernels.size(0)):\n",
    "    plt.subplot(2,16,k+1)\n",
    "    plt.imshow(kernels[i].squeeze())\n",
    "    k += 1\n",
    "plt.show()"
   ]
  },
  {
   "cell_type": "code",
   "execution_count": 67,
   "metadata": {},
   "outputs": [
    {
     "name": "stdout",
     "output_type": "stream",
     "text": [
      "Los resultados obtenidos para el modelo son: f1 = 0.5415431705924407, accuracy = 0.603, loss = 1.123900055885315\n"
     ]
    }
   ],
   "source": [
    "model.eval()\n",
    "Xtr = X_test.unsqueeze(1)\n",
    "Y_pred = model(Xtr)\n",
    "\n",
    "loss = criterion(Y_pred,Y_test)\n",
    "\n",
    "Y_pred = torch.argmax(Y_pred, 1)\n",
    "f1 = f1_score(Y_test, Y_pred, average='macro')    \n",
    "\n",
    "acc = accuracy_score(Y_test,Y_pred)\n",
    "print('Los resultados obtenidos para el modelo son: f1 = {}, accuracy = {}, loss = {}'.format(f1,acc, loss.item()))"
   ]
  },
  {
   "cell_type": "markdown",
   "metadata": {},
   "source": [
    "## Conclusiones \n",
    "\n",
    "El modelo se compone de dos capas convolucionales, la primera tiene 1 entrada y 32 salidas, con un kernel de 4x4, un padding de 3 y stride de 2. Luego sigue una capa de Max pool con un kernel de 2x2, es decir, reducimos las características en la mitad. Luego, otra capa convolucional de 40 salidas, seguida de otra capa de Max pool con otro kernel de 2x2. Entremedio existen capas de dropout, la primera con probabilidad 0.15 y la segunda con 0.1. \n",
    "\n",
    "Las funciones de activación son sigmoidales, por lo cual para valores negativos de la convolución también se tienen valores distintos de cero. \n",
    "\n",
    "Finalmente, al evaluar el modelo nos damos cuenta de una gran variación en la perdida, en el f1 y en el accuracy. Esto se puede explicar desde una mala escogencia de parámetros para el batch-size. Esto quiere decir que se está entrenando con un batch size muy grande y por esto el modelo tiene mucho ruido."
   ]
  },
  {
   "cell_type": "code",
   "execution_count": null,
   "metadata": {},
   "outputs": [],
   "source": []
  }
 ],
 "metadata": {
  "kernelspec": {
   "display_name": "Python 3",
   "language": "python",
   "name": "python3"
  },
  "language_info": {
   "codemirror_mode": {
    "name": "ipython",
    "version": 3
   },
   "file_extension": ".py",
   "mimetype": "text/x-python",
   "name": "python",
   "nbconvert_exporter": "python",
   "pygments_lexer": "ipython3",
   "version": "3.8.3"
  }
 },
 "nbformat": 4,
 "nbformat_minor": 4
}
